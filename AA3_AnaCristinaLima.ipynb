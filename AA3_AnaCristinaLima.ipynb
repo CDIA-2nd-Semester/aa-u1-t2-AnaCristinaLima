{
 "cells": [
  {
   "cell_type": "markdown",
   "id": "0b22aad1",
   "metadata": {},
   "source": [
    "Instrucciones:\n",
    "Escenario: Sistema de Control de Vehículos Autónomos\n",
    "Una empresa de tecnología requiere un software que gestione una flota\n",
    "de vehículos autónomos de diferentes tipos:\n",
    "• Automóviles\n",
    "• Camiones\n",
    "• Motocicletas\n",
    "Todos los vehículos comparten ciertas características básicas\n",
    "(abstracción):\n",
    "• Identificador único\n",
    "• Modelo\n",
    "• Velocidad máxima\n",
    "• Capacidad de carga"
   ]
  },
  {
   "cell_type": "markdown",
   "id": "0fc6e16c",
   "metadata": {},
   "source": [
    "1. Encapsulamiento: Los atributos internos del vehiculo seben ser privados\n",
    "2. ABSTRACCION \n",
    "Creación de Clase Abstracta Vehiculo"
   ]
  },
  {
   "cell_type": "code",
   "execution_count": null,
   "id": "54068076",
   "metadata": {},
   "outputs": [],
   "source": [
    "\n",
    "from abc import ABC, abstractmethod\n",
    "\n",
    "class Vehiculo(ABC):\n",
    "    def __init__(self, identificador, modelo, velocidad_maxima, capacidad_carga):\n",
    "        self.__identificador = identificador   # Encapsulamiento: privado\n",
    "        self.__modelo = modelo\n",
    "        self.__velocidad_maxima = velocidad_maxima\n",
    "        self.__capacidad_carga = capacidad_carga\n",
    "        self._estrategia_conduccion = None  \n",
    "\n",
    "    # Se utilizara Getters y Setters para Encapsulamiento\n",
    "    @property\n",
    "    def identificador(self):\n",
    "        return self.__identificador\n",
    "\n",
    "    @property\n",
    "    def modelo(self):\n",
    "        return self.__modelo\n",
    "\n",
    "    @property\n",
    "    def velocidad_maxima(self):\n",
    "        return self.__velocidad_maxima\n",
    "\n",
    "    @property\n",
    "    def capacidad_carga(self):\n",
    "        return self.__capacidad_carga\n",
    "\n",
    "    # Métodos abstractos\n",
    "    @abstractmethod\n",
    "    def acelerar(self):\n",
    "        pass\n",
    "\n",
    "    @abstractmethod\n",
    "    def frenar(self):\n",
    "        pass\n",
    "\n",
    "    @abstractmethod\n",
    "    def informar_estado(self):\n",
    "        pass\n",
    "\n",
    "    # Método para la estrategia de conducción\n",
    "    def establecer_estrategia(self, estrategia):\n",
    "        self._estrategia_conduccion = estrategia\n",
    "\n",
    "    # Método para usar la estrategia de conducción\n",
    "    def conducir(self):\n",
    "        if self._estrategia_conduccion:\n",
    "            self._estrategia_conduccion.conducir()\n",
    "        else:\n",
    "            print(\"Estrategia de conducción no establecida.\")\n"
   ]
  },
  {
   "cell_type": "markdown",
   "id": "ec6f0dda",
   "metadata": {},
   "source": [
    "3. HERENCIA:\n",
    "Subclase Automovil \n",
    "4. pOLIMORFISMO: Cada subclase tendra su propio comportamiento de acelerar y frenar"
   ]
  },
  {
   "cell_type": "code",
   "execution_count": null,
   "id": "79786249",
   "metadata": {},
   "outputs": [],
   "source": [
    "# Subclase Automovil \n",
    "class Automovil(Vehiculo):\n",
    "    def acelerar(self):\n",
    "        print(f\"El automóvil {self.modelo} acelera\")\n",
    "\n",
    "    def frenar(self):\n",
    "        print(f\"El automóvil {self.modelo} está frenando.\")\n",
    "\n",
    "    def informar_estado(self):\n",
    "        print(f\"Automóvil {self.modelo}: Velocidad Máxima {self.velocidad_maxima} km/h, Capacidad de carga {self.capacidad_carga} kg.\")\n"
   ]
  },
  {
   "cell_type": "code",
   "execution_count": 68,
   "id": "2fb1e6dc",
   "metadata": {},
   "outputs": [
    {
     "name": "stdout",
     "output_type": "stream",
     "text": [
      "El automóvil Toyota Corolla está acelerando.\n",
      "El automóvil Toyota Corolla está frenando.\n",
      "Automóvil Toyota Corolla: Velocidad Máxima 180 km/h, Capacidad de carga 500 kg.\n"
     ]
    }
   ],
   "source": [
    "# Prueba \n",
    "auto = Automovil(\"A001\", \"Toyota Corolla\", 180, 500)\n",
    "auto.acelerar()\n",
    "auto.frenar()\n",
    "auto.informar_estado()\n"
   ]
  },
  {
   "cell_type": "markdown",
   "id": "1c16c4b4",
   "metadata": {},
   "source": [
    "Creación Subclase Camión"
   ]
  },
  {
   "cell_type": "code",
   "execution_count": 69,
   "id": "4a6518d3",
   "metadata": {},
   "outputs": [],
   "source": [
    "# Subclase Camion que hereda de Vehiculo\n",
    "class Camion(Vehiculo):\n",
    "    def __init__(self, identificador, modelo, velocidad_maxima, capacidad_carga, capacidad_remolque):\n",
    "        # Constructor\n",
    "        super().__init__(identificador, modelo, velocidad_maxima, capacidad_carga)\n",
    "        self.__capacidad_remolque = capacidad_remolque  \n",
    "\n",
    "    # Getters y Setters para capacidad de remolque\n",
    "    @property\n",
    "    def capacidad_remolque(self):\n",
    "        return self.__capacidad_remolque\n",
    "\n",
    "    @capacidad_remolque.setter\n",
    "    def capacidad_remolque(self, value):\n",
    "        self.__capacidad_remolque = value\n",
    "#Polimorfismo\n",
    "    # Métodos específicos para el Camión \n",
    "    def acelerar(self):\n",
    "        print(f\"El camión {self.modelo} está acelerando.\")\n",
    "\n",
    "    def frenar(self):\n",
    "        print(f\"El camión {self.modelo} está frenando.\")\n",
    "\n",
    "    def informar_estado(self):\n",
    "        print(f\"Camión {self.modelo}: Velocidad Máxima {self.velocidad_maxima} km/h, Capacidad de carga {self.capacidad_carga} kg, Remolque {self.__capacidad_remolque} kg.\")\n"
   ]
  },
  {
   "cell_type": "markdown",
   "id": "ad985b37",
   "metadata": {},
   "source": [
    "Prueba camion"
   ]
  },
  {
   "cell_type": "code",
   "execution_count": 70,
   "id": "47740886",
   "metadata": {},
   "outputs": [
    {
     "name": "stdout",
     "output_type": "stream",
     "text": [
      "El camión MAVESA FH está acelerando.\n",
      "El camión MAVESA FH está frenando.\n",
      "Camión MAVESA FH: Velocidad Máxima 120 km/h, Capacidad de carga 10000 kg, Remolque 20000 kg.\n"
     ]
    }
   ],
   "source": [
    "# Creamos una instancia del camion\n",
    "camion = Camion(\"C001\", \"MAVESA FH\", 120, 10000, 20000)\n",
    "camion.acelerar()\n",
    "camion.frenar()\n",
    "camion.informar_estado()\n"
   ]
  },
  {
   "cell_type": "markdown",
   "id": "fcceb894",
   "metadata": {},
   "source": [
    "Subclase Motocicleta"
   ]
  },
  {
   "cell_type": "code",
   "execution_count": 48,
   "id": "df53fa43",
   "metadata": {},
   "outputs": [],
   "source": [
    "# Subclase Motocicleta que hereda de Vehiculo\n",
    "class Motocicleta(Vehiculo):\n",
    "    def __init__(self, identificador, modelo, velocidad_maxima, capacidad_carga):\n",
    "        #  constructor \n",
    "        super().__init__(identificador, modelo, velocidad_maxima, capacidad_carga)\n",
    "#Polimorfismo\n",
    "    # Métodos específicos de la Motocicleta \n",
    "    def acelerar(self):\n",
    "        print(f\"La motocicleta {self.modelo} está acelerando \")\n",
    "\n",
    "    def frenar(self):\n",
    "        print(f\"La motocicleta {self.modelo} está frenando \")\n",
    "\n",
    "    def realizar_maniobra_evasiva(self):\n",
    "        print(f\"La motocicleta {self.modelo} está realizando una maniobra evasiva\")\n",
    "\n",
    "    def informar_estado(self):\n",
    "        print(f\"Motocicleta {self.modelo}: Velocidad Máxima {self.velocidad_maxima} km/h, Capacidad de carga {self.capacidad_carga} kg.\")\n"
   ]
  },
  {
   "cell_type": "markdown",
   "id": "1249c98d",
   "metadata": {},
   "source": [
    "prueba Motocicleta"
   ]
  },
  {
   "cell_type": "code",
   "execution_count": 49,
   "id": "f175fd40",
   "metadata": {},
   "outputs": [
    {
     "name": "stdout",
     "output_type": "stream",
     "text": [
      "La motocicleta Yamaha R3 está acelerando \n",
      "La motocicleta Yamaha R3 está frenando \n",
      "La motocicleta Yamaha R3 está realizando una maniobra evasiva\n",
      "Motocicleta Yamaha R3: Velocidad Máxima 220 km/h, Capacidad de carga 150 kg.\n"
     ]
    }
   ],
   "source": [
    "# Creando una instancia de Motocicleta\n",
    "moto = Motocicleta(\"M001\", \"Yamaha R3\", 220, 150)\n",
    "moto.acelerar()\n",
    "moto.frenar()\n",
    "moto.realizar_maniobra_evasiva()\n",
    "moto.informar_estado()\n"
   ]
  },
  {
   "cell_type": "markdown",
   "id": "58b6049b",
   "metadata": {},
   "source": [
    "PRUEBA GENERAL"
   ]
  },
  {
   "cell_type": "code",
   "execution_count": 71,
   "id": "3a2495b2",
   "metadata": {},
   "outputs": [
    {
     "name": "stdout",
     "output_type": "stream",
     "text": [
      "El automóvil Toyota Corolla está acelerando.\n",
      "El camión MAVESA FH está frenando.\n",
      "La motocicleta Yamaha R3 está realizando una maniobra evasiva\n",
      "Automóvil Toyota Corolla: Velocidad Máxima 180 km/h, Capacidad de carga 500 kg.\n",
      "Camión MAVESA FH: Velocidad Máxima 120 km/h, Capacidad de carga 10000 kg, Remolque 20000 kg.\n",
      "Motocicleta Yamaha R3: Velocidad Máxima 220 km/h, Capacidad de carga 150 kg.\n"
     ]
    }
   ],
   "source": [
    "# Prueba general \n",
    "auto = Automovil(\"A001\", \"Toyota Corolla\", 180, 500)\n",
    "camion = Camion(\"C001\", \"MAVESA FH\", 120, 10000, 20000)\n",
    "moto = Motocicleta(\"M001\", \"Yamaha R3\", 220, 150)\n",
    "\n",
    "auto.acelerar()\n",
    "camion.frenar()\n",
    "moto.realizar_maniobra_evasiva()\n",
    "\n",
    "auto.informar_estado()\n",
    "camion.informar_estado()\n",
    "moto.informar_estado()\n"
   ]
  },
  {
   "cell_type": "markdown",
   "id": "11e19ccf",
   "metadata": {},
   "source": [
    "5. PATRONES DE DISEÑO\n",
    "\n",
    "5. a) Strategy Pattern\n",
    " Aqui vamos a cambiar el comportamiento de conduccion de los vehculos de una manera dinamica. 3 estrategias de conduccion:\n",
    " Economica, para ahorrar combustible\n",
    " Deportiva, aqui va a buscar maxima velocidad\n",
    " y la off road, permite etabilidad en terrenos complicados o dificiles de manejar.\n",
    " Para ello creamos una clase abstracta para definir el metodo Conducir"
   ]
  },
  {
   "cell_type": "code",
   "execution_count": 72,
   "id": "c59e487a",
   "metadata": {},
   "outputs": [],
   "source": [
    "\n",
    "from abc import ABC, abstractmethod\n",
    "\n",
    "# Interfaz de Estrategia de Conducción\n",
    "class EstrategiaConduccion(ABC):\n",
    "    @abstractmethod\n",
    "    def conducir(self):\n",
    "        pass\n",
    "\n",
    "# Estrategia de Conducción Económica\n",
    "class ConduccionEconomica(EstrategiaConduccion):\n",
    "    def conducir(self):\n",
    "        print(\"Conduciendo de manera económica, es decir con velocidad reducida y un menor consumo de combustible.\")\n",
    "\n",
    "# Estrategia de Conducción Deportiva\n",
    "class ConduccionDeportiva(EstrategiaConduccion):\n",
    "    def conducir(self):\n",
    "        print(\"Conduciendo de manera deportiva, es decir, máxima aceleración y velocidad.\")\n",
    "\n",
    "# Estrategia de Conducción Off-road\n",
    "class ConduccionOffRoad(EstrategiaConduccion):\n",
    "    def conducir(self):\n",
    "        print(\"Conduciendo fuera de carretera, en terrenos complicado pero manteniendo la estabilidad máxima.\")\n"
   ]
  },
  {
   "cell_type": "markdown",
   "id": "1a8a7ed5",
   "metadata": {},
   "source": [
    "ahora vamos a integrar el Strategy Patten a la clase vehiculo.\n",
    "Para ello se le va a agregar el atributo \"estrategia_conduccion\" dentro de la clase vehiculo, y creamos el metodo \"establecer_estrategia\""
   ]
  },
  {
   "cell_type": "code",
   "execution_count": 73,
   "id": "8c72346a",
   "metadata": {},
   "outputs": [],
   "source": [
    "\n",
    "class Vehiculo(ABC):\n",
    "    def __init__(self, identificador, modelo, velocidad_maxima, capacidad_carga):\n",
    "        self.__identificador = identificador   \n",
    "        self.__modelo = modelo\n",
    "        self.__velocidad_maxima = velocidad_maxima\n",
    "        self.__capacidad_carga = capacidad_carga\n",
    "        self._estrategia_conduccion = None  # Agregamos la estrategia de conducción \n",
    "#Encapsulamiento\n",
    "    # Getters y Setters \n",
    "    @property\n",
    "    def identificador(self):\n",
    "        return self.__identificador\n",
    "\n",
    "    @property\n",
    "    def modelo(self):\n",
    "        return self.__modelo\n",
    "\n",
    "    @property\n",
    "    def velocidad_maxima(self):\n",
    "        return self.__velocidad_maxima\n",
    "\n",
    "    @property\n",
    "    def capacidad_carga(self):\n",
    "        return self.__capacidad_carga\n",
    "\n",
    "    # Métodos abstractos\n",
    "    @abstractmethod\n",
    "    def acelerar(self):\n",
    "        pass\n",
    "\n",
    "    @abstractmethod\n",
    "    def frenar(self):\n",
    "        pass\n",
    "\n",
    "    @abstractmethod\n",
    "    def informar_estado(self):\n",
    "        pass\n",
    "\n",
    "    # Método para establecer la estrategia de conducción\n",
    "    def establecer_estrategia(self, estrategia: EstrategiaConduccion):\n",
    "        self._estrategia_conduccion = estrategia\n",
    "\n",
    "    # Método para usar la estrategia de conducción\n",
    "    def conducir(self):\n",
    "        if self._estrategia_conduccion:\n",
    "            self._estrategia_conduccion.conducir()\n",
    "        else:\n",
    "            print(\"Estrategia de conducción no esta establecida.\")\n"
   ]
  },
  {
   "cell_type": "markdown",
   "id": "ba494069",
   "metadata": {},
   "source": [
    "Prueba de Strategy Pattern"
   ]
  },
  {
   "cell_type": "code",
   "execution_count": 74,
   "id": "648cc258",
   "metadata": {},
   "outputs": [
    {
     "name": "stdout",
     "output_type": "stream",
     "text": [
      "Conduciendo de manera económica, es decir con velocidad reducida y un menor consumo de combustible.\n",
      "Conduciendo de manera deportiva, es decir, máxima aceleración y velocidad.\n",
      "Conduciendo fuera de carretera, en terrenos complicado pero manteniendo la estabilidad máxima.\n"
     ]
    }
   ],
   "source": [
    "\n",
    "auto = Automovil(\"A001\", \"Toyota Corolla\", 180, 500)\n",
    "\n",
    "# Establecemos la estrategia económica\n",
    "auto.establecer_estrategia(ConduccionEconomica())\n",
    "auto.conducir()\n",
    "\n",
    "# Cambiamos a estrategia deportiva\n",
    "auto.establecer_estrategia(ConduccionDeportiva())\n",
    "auto.conducir()\n",
    "\n",
    "# Cambiamos a estrategia off-road\n",
    "auto.establecer_estrategia(ConduccionOffRoad())\n",
    "auto.conducir()\n"
   ]
  },
  {
   "cell_type": "markdown",
   "id": "7cd0b05a",
   "metadata": {},
   "source": [
    "5. B) DECORATOR  PATTERN\n",
    "Ahora se agregaran duncionalidades adicionales como piloto automatico y asistente de estacionamiento, pero sin modificar la clase base. Para ello crearemos una nueva clase"
   ]
  },
  {
   "cell_type": "code",
   "execution_count": 75,
   "id": "47a96305",
   "metadata": {},
   "outputs": [],
   "source": [
    "\n",
    "class VehiculoDecorator(Vehiculo):\n",
    "    def __init__(self, vehiculo):\n",
    "        self._vehiculo = vehiculo\n",
    "\n",
    "    def acelerar(self):\n",
    "        self._vehiculo.acelerar()\n",
    "\n",
    "    def frenar(self):\n",
    "        self._vehiculo.frenar()\n",
    "\n",
    "    def informar_estado(self):\n",
    "        self._vehiculo.informar_estado()\n"
   ]
  },
  {
   "cell_type": "markdown",
   "id": "f28b9019",
   "metadata": {},
   "source": [
    "Ahora crearemos el decorador piloto automatico, agregando esta funcionalidad a cualquier vehiculo"
   ]
  },
  {
   "cell_type": "code",
   "execution_count": 76,
   "id": "94b51b96",
   "metadata": {},
   "outputs": [],
   "source": [
    "# Decorador para Piloto Automático\n",
    "class PilotoAutomaticoDecorator(VehiculoDecorator):\n",
    "    def __init__(self, vehiculo):\n",
    "        super().__init__(vehiculo)\n",
    "\n",
    "    def activar_piloto_automatico(self):\n",
    "        print(f\"El piloto automático esta activado en el {self._vehiculo.modelo}.\")\n"
   ]
  },
  {
   "cell_type": "markdown",
   "id": "ff5dc3ea",
   "metadata": {},
   "source": [
    "Ahora crearemos el decorador asistente de estacionamiento, para el estacionamiento asistido"
   ]
  },
  {
   "cell_type": "code",
   "execution_count": null,
   "id": "6f2a931e",
   "metadata": {},
   "outputs": [],
   "source": [
    "# Decorador para Asistente de Estacionamiento\n",
    "class AsistenteEstacionamientoDecorator(VehiculoDecorator):\n",
    "    def __init__(self, vehiculo):\n",
    "        super().__init__(vehiculo)\n",
    "\n",
    "    def activar_asistente_estacionamiento(self):\n",
    "        print(f\"EL asistente de estacionamiento esta activado en el {self._vehiculo.modelo}.\")\n"
   ]
  },
  {
   "cell_type": "markdown",
   "id": "eb8bbb57",
   "metadata": {},
   "source": [
    "PRUBA DEL DECORADOR"
   ]
  },
  {
   "cell_type": "code",
   "execution_count": 56,
   "id": "91ea2435",
   "metadata": {},
   "outputs": [
    {
     "name": "stdout",
     "output_type": "stream",
     "text": [
      "Automóvil Toyota Corolla: Velocidad Máxima 180 km/h, Capacidad de carga 500 kg.\n",
      "Automóvil Toyota Corolla: Velocidad Máxima 180 km/h, Capacidad de carga 500 kg.\n",
      "El piloto automático esta activado en el Toyota Corolla.\n",
      "Automóvil Toyota Corolla: Velocidad Máxima 180 km/h, Capacidad de carga 500 kg.\n",
      "Asistente de estacionamiento activado en el Toyota Corolla.\n"
     ]
    }
   ],
   "source": [
    "\n",
    "auto = Automovil(\"A001\", \"Toyota Corolla\", 180, 500)\n",
    "auto.informar_estado()\n",
    "\n",
    "# Agregando piloto automático\n",
    "auto_piloto = PilotoAutomaticoDecorator(auto)\n",
    "auto_piloto.informar_estado()\n",
    "auto_piloto.activar_piloto_automatico()\n",
    "\n",
    "# Agregando asistente de estacionamiento\n",
    "auto_estacionamiento = AsistenteEstacionamientoDecorator(auto)\n",
    "auto_estacionamiento.informar_estado()\n",
    "auto_estacionamiento.activar_asistente_estacionamiento()\n"
   ]
  },
  {
   "cell_type": "markdown",
   "id": "d3f00c65",
   "metadata": {},
   "source": [
    "5. C) SINGLETON PATTER \n",
    "Aqui implmentare el Control de Flota que nos sirve en todos los vehiculos. \n",
    "Para ello se utilizara el metodo __new__ enves de __init__ , para crear una unica instancia de clase Controldeflota\n"
   ]
  },
  {
   "cell_type": "code",
   "execution_count": 77,
   "id": "ab15be20",
   "metadata": {},
   "outputs": [],
   "source": [
    "# Clase Singleton para Control de Flota\n",
    "class ControlDeFlota:\n",
    "    __instancia = None  \n",
    "\n",
    "    def __new__(cls):\n",
    "        if cls.__instancia is None:\n",
    "            cls.__instancia = super(ControlDeFlota, cls).__new__(cls)\n",
    "            cls.__instancia.vehiculos = []  \n",
    "        return cls.__instancia\n",
    "\n",
    "    # Método para agregar un vehículo\n",
    "    def agregar_vehiculo(self, vehiculo):\n",
    "        self.vehiculos.append(vehiculo)\n",
    "        print(f\"Vehículo {vehiculo.modelo} agregado a la flota.\")\n",
    "\n",
    "    # Método para mostrar todos los vehículos\n",
    "    def mostrar_flota(self):\n",
    "        if len(self.vehiculos) == 0:\n",
    "            print(\"La flota está vacía.\")\n",
    "        else:\n",
    "            print(\"Lista de Flota de Vehículos:\")\n",
    "            for vehiculo in self.vehiculos:\n",
    "                vehiculo.informar_estado()\n"
   ]
  },
  {
   "cell_type": "markdown",
   "id": "6aa0fa32",
   "metadata": {},
   "source": [
    "Prueba del Singleton Patter"
   ]
  },
  {
   "cell_type": "code",
   "execution_count": 78,
   "id": "2a15c27c",
   "metadata": {},
   "outputs": [
    {
     "name": "stdout",
     "output_type": "stream",
     "text": [
      "Vehículo Toyota Corolla agregado a la flota.\n",
      "Vehículo Volvo FH agregado a la flota.\n",
      "Vehículo Yamaha R3 agregado a la flota.\n",
      "Lista de Flota de Vehículos:\n",
      "Automóvil Toyota Corolla: Velocidad Máxima 180 km/h, Capacidad de carga 500 kg.\n",
      "Camión Volvo FH: Velocidad Máxima 120 km/h, Capacidad de carga 10000 kg, Remolque 20000 kg.\n",
      "Motocicleta Yamaha R3: Velocidad Máxima 220 km/h, Capacidad de carga 150 kg.\n",
      "¿Son la misma instancia?: True\n"
     ]
    }
   ],
   "source": [
    "\n",
    "control_flotas = ControlDeFlota()\n",
    "\n",
    "# Creando algunos vehículos\n",
    "auto = Automovil(\"A001\", \"Toyota Corolla\", 180, 500)\n",
    "camion = Camion(\"C001\", \"Volvo FH\", 120, 10000, 20000)\n",
    "moto = Motocicleta(\"M001\", \"Yamaha R3\", 220, 150)\n",
    "\n",
    "# Agregando los vehículos a la flota\n",
    "control_flotas.agregar_vehiculo(auto)\n",
    "control_flotas.agregar_vehiculo(camion)\n",
    "control_flotas.agregar_vehiculo(moto)\n",
    "\n",
    "# Mostrando la flota\n",
    "control_flotas.mostrar_flota()\n",
    "\n",
    "# Verificando que solo existe una instancia\n",
    "control_flotas2 = ControlDeFlota()\n",
    "print(f\"¿Son la misma instancia?: {control_flotas is control_flotas2}\") #PAra comprobar que no se repiten\n"
   ]
  },
  {
   "cell_type": "markdown",
   "id": "3965a536",
   "metadata": {},
   "source": [
    "6. SOBRECARGA DE OPERADORES\n",
    "\n",
    "Se utilizaran los operadores == igualdad y + Adicion.\n",
    "Los dos vehiculos seran considerados iguales si tienen el mismo modelo y la misma velocidad maxxima"
   ]
  },
  {
   "cell_type": "code",
   "execution_count": 79,
   "id": "35176943",
   "metadata": {},
   "outputs": [],
   "source": [
    "\n",
    "class Vehiculo(ABC):\n",
    "    def __init__(self, identificador, modelo, velocidad_maxima, capacidad_carga):\n",
    "        self.__identificador = identificador  \n",
    "        self.__modelo = modelo\n",
    "        self.__velocidad_maxima = velocidad_maxima\n",
    "        self.__capacidad_carga = capacidad_carga\n",
    "        self._estrategia_conduccion = None  \n",
    "\n",
    "    # Getters\n",
    "    @property\n",
    "    def identificador(self):\n",
    "        return self.__identificador\n",
    "\n",
    "    @property\n",
    "    def modelo(self):\n",
    "        return self.__modelo\n",
    "\n",
    "    @property\n",
    "    def velocidad_maxima(self):\n",
    "        return self.__velocidad_maxima\n",
    "\n",
    "    @property\n",
    "    def capacidad_carga(self):\n",
    "        return self.__capacidad_carga\n",
    "\n",
    "    # Sobrecarga del operador ==\n",
    "    def __eq__(self, otro):\n",
    "        if not isinstance(otro, Vehiculo):\n",
    "            return False\n",
    "    # Usamos los getters para acceder a los atributos encapsulados\n",
    "        return (self.modelo == otro.modelo and \n",
    "                self.velocidad_maxima == otro.velocidad_maxima)\n",
    "\n",
    "\n",
    "\n",
    "    # Métodos abstractos\n",
    "    @abstractmethod\n",
    "    def acelerar(self):\n",
    "        pass\n",
    "\n",
    "    @abstractmethod\n",
    "    def frenar(self):\n",
    "        pass\n",
    "\n",
    "    @abstractmethod\n",
    "    def informar_estado(self):\n",
    "        pass\n"
   ]
  },
  {
   "cell_type": "markdown",
   "id": "46824c77",
   "metadata": {},
   "source": [
    "PRUEBA DE LA SOBRECARGA"
   ]
  },
  {
   "cell_type": "code",
   "execution_count": 59,
   "id": "d7bc27d4",
   "metadata": {},
   "outputs": [
    {
     "name": "stdout",
     "output_type": "stream",
     "text": [
      "False\n"
     ]
    }
   ],
   "source": [
    "\n",
    "auto1 = Automovil(\"A001\", \"Toyota Corolla\", 180, 500)\n",
    "auto2 = Automovil(\"A002\", \"Toyota Corolla\", 180, 400)\n",
    "\n",
    "# Comparando los vehículos\n",
    "print(auto1 == auto2) \n",
    "\n"
   ]
  },
  {
   "cell_type": "markdown",
   "id": "38ea23ed",
   "metadata": {},
   "source": [
    "SOBRECARGA OPERADOR ADD+"
   ]
  },
  {
   "cell_type": "code",
   "execution_count": 80,
   "id": "71bd275a",
   "metadata": {},
   "outputs": [],
   "source": [
    "# Clase Singleton para Control de Flota\n",
    "class ControlDeFlota:\n",
    "    __instancia = None  \n",
    "\n",
    "    def __new__(cls):\n",
    "        if cls.__instancia is None:\n",
    "            cls.__instancia = super(ControlDeFlota, cls).__new__(cls)\n",
    "            cls.__instancia.vehiculos = []  \n",
    "        return cls.__instancia\n",
    "\n",
    "    # Método para agregar un vehículo\n",
    "    def agregar_vehiculo(self, vehiculo):\n",
    "        self.vehiculos.append(vehiculo)\n",
    "        print(f\"Vehículo {vehiculo.modelo} agregado a la flota.\")\n",
    "\n",
    "    # Sobrecarga del operador +\n",
    "    def __add__(self, vehiculo):\n",
    "        if isinstance(vehiculo, Vehiculo):\n",
    "            self.agregar_vehiculo(vehiculo)\n",
    "        else:\n",
    "            print(\"Error: Solo se pueden agregar objetos de tipo Vehiculo.\")\n",
    "        return self  \n",
    "\n",
    "    # Método para mostrar todos los vehículos\n",
    "    def mostrar_flota(self):\n",
    "        if len(self.vehiculos) == 0:\n",
    "            print(\"La flota está vacía.\")\n",
    "        else:\n",
    "            print(\"Lista de Flota de Vehículos:\")\n",
    "            for vehiculo in self.vehiculos:\n",
    "                vehiculo.informar_estado()\n"
   ]
  },
  {
   "cell_type": "code",
   "execution_count": 81,
   "id": "ec416dd7",
   "metadata": {},
   "outputs": [
    {
     "name": "stdout",
     "output_type": "stream",
     "text": [
      "Error: Solo se pueden agregar objetos de tipo Vehiculo.\n",
      "Error: Solo se pueden agregar objetos de tipo Vehiculo.\n",
      "Error: Solo se pueden agregar objetos de tipo Vehiculo.\n",
      "La flota está vacía.\n"
     ]
    }
   ],
   "source": [
    "\n",
    "control_flotas = ControlDeFlota()\n",
    "\n",
    "auto = Automovil(\"A001\", \"Toyota Corolla\", 180, 500)\n",
    "camion = Camion(\"C001\", \"MAVESA FH\", 120, 10000, 20000)\n",
    "moto = Motocicleta(\"M001\", \"Yamaha R3\", 220, 150)\n",
    "\n",
    "# Agregando vehículos a la flota usando el operador +\n",
    "control_flotas + auto + camion + moto\n",
    "\n",
    "# Mostrando la flota\n",
    "control_flotas.mostrar_flota()\n"
   ]
  },
  {
   "cell_type": "code",
   "execution_count": 66,
   "id": "ec416dd7",
   "metadata": {},
   "outputs": [
    {
     "name": "stdout",
     "output_type": "stream",
     "text": [
      "Error: Solo se pueden agregar objetos de tipo Vehiculo.\n",
      "Error: Solo se pueden agregar objetos de tipo Vehiculo.\n",
      "Error: Solo se pueden agregar objetos de tipo Vehiculo.\n",
      "La flota está vacía.\n"
     ]
    }
   ],
   "source": [
    "\n",
    "control_flotas = ControlDeFlota()\n",
    "\n",
    "auto = Automovil(\"A001\", \"Toyota Corolla\", 180, 500)\n",
    "camion = Camion(\"C001\", \"MAVESA FH\", 120, 10000, 20000)\n",
    "moto = Motocicleta(\"M001\", \"Yamaha R3\", 220, 150)\n",
    "\n",
    "# Agregando vehículos a la flota usando el operador +\n",
    "control_flotas + auto + camion + moto\n",
    "\n",
    "# Mostrando la flota\n",
    "control_flotas.mostrar_flota()\n"
   ]
  }
 ],
 "metadata": {
  "kernelspec": {
   "display_name": "program_2",
   "language": "python",
   "name": "python3"
  },
  "language_info": {
   "codemirror_mode": {
    "name": "ipython",
    "version": 3
   },
   "file_extension": ".py",
   "mimetype": "text/x-python",
   "name": "python",
   "nbconvert_exporter": "python",
   "pygments_lexer": "ipython3",
   "version": "3.12.9"
  }
 },
 "nbformat": 4,
 "nbformat_minor": 5
}
